{
 "cells": [
  {
   "cell_type": "code",
   "execution_count": 1,
   "id": "277172c2",
   "metadata": {},
   "outputs": [],
   "source": [
    "import openai"
   ]
  },
  {
   "cell_type": "code",
   "execution_count": 2,
   "id": "02124348",
   "metadata": {},
   "outputs": [],
   "source": [
    "from dotenv import dotenv_values"
   ]
  },
  {
   "cell_type": "code",
   "execution_count": 3,
   "id": "e808b1d3",
   "metadata": {},
   "outputs": [],
   "source": [
    "config = dotenv_values(\".env\")"
   ]
  },
  {
   "cell_type": "code",
   "execution_count": 4,
   "id": "74457c8a",
   "metadata": {},
   "outputs": [],
   "source": [
    "openai.api_key =config[\"OPENAI_API_KEY\"]"
   ]
  },
  {
   "cell_type": "code",
   "execution_count": 5,
   "id": "03e0a23a",
   "metadata": {},
   "outputs": [
    {
     "data": {
      "text/plain": [
       "<OpenAIObject text_completion id=cmpl-7bp5KU6IpWXMNb7vhCTOWXLJFEXa5 at 0x10a899a80> JSON: {\n",
       "  \"id\": \"cmpl-7bp5KU6IpWXMNb7vhCTOWXLJFEXa5\",\n",
       "  \"object\": \"text_completion\",\n",
       "  \"created\": 1689248862,\n",
       "  \"model\": \"text-davinci-003\",\n",
       "  \"choices\": [\n",
       "    {\n",
       "      \"text\": \" \\ucc98\\uc74c \\uc774\\ub807\\uac8c \\ud574\\ubcf8\\ub2e4. \\uadf8\\ub300\\uc758 \\ubcf4\\ubc30\\ub85c '\\ub77c\\uc774\\ub108\\uc2a4' - \\uc870\\uc815\\uce58\",\n",
       "      \"index\": 0,\n",
       "      \"logprobs\": null,\n",
       "      \"finish_reason\": \"stop\"\n",
       "    }\n",
       "  ],\n",
       "  \"usage\": {\n",
       "    \"prompt_tokens\": 1210,\n",
       "    \"completion_tokens\": 64,\n",
       "    \"total_tokens\": 1274\n",
       "  }\n",
       "}"
      ]
     },
     "execution_count": 5,
     "metadata": {},
     "output_type": "execute_result"
    }
   ],
   "source": [
    "openai.Completion.create(\n",
    "    model=\"text-davinci-003\",\n",
    "    prompt=\"일기 7/7, 금, 날씨 : 더움 친구가 보드게임카페에서 알바를 하는데 거기가면 반값 할인해준다고 해서 보드게임카페를 갔다. 생각해보니 보드게임 카페를 안간지 엄청 오래된 것 같다. 나는 조금 늦게 참여해서 갔는데 건대 두끼건물에 보드게임 카페가 있는지는 처음 알았다. 시계테마로하는 할리갈리같은 게임인데 라운드마다 이긴사람은 밖에 나가고 이긴사람빼고 룰카드를 뽑아서 룰이 추가돼서 이긴사람에게 패널티를 주는게 신선했다. 블리츠도 오랬만에 하니까 재밌었다. 다 하구 재즈로 갔는데 역시 전화로는 항상 자리가 없다구 한다. 가니까 자리가 있어서 앉았다. 쪼금 마시면서 이런저런얘기하다가 집에 가야되서 애들을 보내고 남은애들끼리 중량천을 걷다가 갑자기 미끌려서 넘어졌다. 거의 사람사이즈의 개똥을 밟았다. 왜 똥을 밟으면 넘어지는지 처음 알았다.한명은 내가 밟으니까 집으로 도망갔다.싸가지없는새키반대 발가락에 피좀 나서 쩔둑거리면서 걸어가니 비온 직후? 라서 마트에서 생수사서 물에 씻으니까 별로 없었긴 했다.. 집와서 야무지게 씻었다… 이마 올해 액땜을 한 것 같다… 이 일기로 노래를 추천해줘\",\n",
    "    max_tokens=100\n",
    ")"
   ]
  },
  {
   "cell_type": "code",
   "execution_count": null,
   "id": "e209ecb4",
   "metadata": {},
   "outputs": [],
   "source": []
  }
 ],
 "metadata": {
  "kernelspec": {
   "display_name": "Python 3 (ipykernel)",
   "language": "python",
   "name": "python3"
  },
  "language_info": {
   "codemirror_mode": {
    "name": "ipython",
    "version": 3
   },
   "file_extension": ".py",
   "mimetype": "text/x-python",
   "name": "python",
   "nbconvert_exporter": "python",
   "pygments_lexer": "ipython3",
   "version": "3.10.9"
  }
 },
 "nbformat": 4,
 "nbformat_minor": 5
}

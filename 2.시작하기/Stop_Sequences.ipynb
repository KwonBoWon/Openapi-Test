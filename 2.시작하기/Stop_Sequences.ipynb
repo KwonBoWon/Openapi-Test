{
 "cells": [
  {
   "cell_type": "code",
   "execution_count": 1,
   "id": "277172c2",
   "metadata": {},
   "outputs": [],
   "source": [
    "import openai"
   ]
  },
  {
   "cell_type": "code",
   "execution_count": 2,
   "id": "02124348",
   "metadata": {},
   "outputs": [],
   "source": [
    "from dotenv import dotenv_values"
   ]
  },
  {
   "cell_type": "code",
   "execution_count": 3,
   "id": "e808b1d3",
   "metadata": {},
   "outputs": [],
   "source": [
    "config = dotenv_values(\".env\")"
   ]
  },
  {
   "cell_type": "code",
   "execution_count": 4,
   "id": "74457c8a",
   "metadata": {},
   "outputs": [],
   "source": [
    "openai.api_key =config[\"OPENAI_API_KEY\"]"
   ]
  },
  {
   "cell_type": "code",
   "execution_count": 48,
   "id": "e209ecb4",
   "metadata": {},
   "outputs": [],
   "source": [
    "response = openai.Completion.create(\n",
    "    prompt=\"오늘은 정말 우울한날이다.. 비도 오고 친구랑도 싸우고 엄마아빠랑도 싸워서 혼자 울고있다.. 요즘 프로젝트때문에 놀 시간도 없고 마음에 여유도 없고 또 개강하면 21학점 들으면서 피곤하게 살겠지….. 너무 힘들다 요즘 번아웃 온 것 같다…. 이 일기로 노래를 추천해줘\",\n",
    "    model=\"text-davinci-003\",\n",
    "    max_tokens=200,\n",
    "    stop=\"5.\" # stop으로 \"5.\"을 만나면 \"5.\"부터 중단(4개만 생성)\n",
    ")"
   ]
  },
  {
   "cell_type": "code",
   "execution_count": 49,
   "id": "ee2df1e3",
   "metadata": {
    "scrolled": true
   },
   "outputs": [
    {
     "name": "stdout",
     "output_type": "stream",
     "text": [
      " \n",
      "\n",
      "또 다시 봄이 오면 - 김건모\n"
     ]
    }
   ],
   "source": [
    "print(response[\"choices\"][0][\"text\"]) # choice는 하나밖에 없으므로 0, text에 데이터가 있음"
   ]
  },
  {
   "cell_type": "code",
   "execution_count": 50,
   "id": "9f7e5196",
   "metadata": {},
   "outputs": [
    {
     "name": "stdout",
     "output_type": "stream",
     "text": [
      " \n",
      "\n",
      "또 다시 봄이 오면 - 김건모\n"
     ]
    }
   ],
   "source": [
    "\n",
    "print(response[\"choices\"][0][\"text\"].encode('utf-8').decode('utf-8'))\n"
   ]
  },
  {
   "cell_type": "code",
   "execution_count": 32,
   "id": "7979364b",
   "metadata": {},
   "outputs": [
    {
     "data": {
      "text/plain": [
       "<OpenAIObject text_completion id=cmpl-7bq0CILIXKDooAFNJHOnhBSn80c59 at 0x1288d3a60> JSON: {\n",
       "  \"id\": \"cmpl-7bq0CILIXKDooAFNJHOnhBSn80c59\",\n",
       "  \"object\": \"text_completion\",\n",
       "  \"created\": 1689252388,\n",
       "  \"model\": \"text-davinci-003\",\n",
       "  \"choices\": [\n",
       "    {\n",
       "      \"text\": \" \\uc6b0\\ub9ac \\uc74c\\uc545 \\uc2a4\\ud0c0\\uc77c\\uc5d0 \\ub9de\\ub294 \\uc62c\\ub77c\\uac04\\uc9c0 \\uc77c \\uc8fc\\uc77c \\uc804 \\ubbf8\\uad6d\\uc5d0\\uc11c \\ube44\\ud589\\uae30\\ub97c \\ud0c0\\uace0 \\uc628 \\uc774\\ud6c4\\ub85c \\ud560 \\uc77c \\ube61\\uc138\\uac8c \\ub9ce\\uace0 \\uadf8\\ub798\\uc11c \\uc2dc\\uac04 \\uc548 \\ub0a8\\uae30\\uace0 \\ubc14\\ube60\\uc11c \\ub178\\ub798\\ub294 \\uc798 \\ub4e4\\uc5b4\\ubcf4\\uc9c0 \\ubabb\\ud55c \\uac83 \\uac19\\uc740\\ub370\\u2026 \\ud760\",\n",
       "      \"index\": 0,\n",
       "      \"logprobs\": null,\n",
       "      \"finish_reason\": \"length\"\n",
       "    }\n",
       "  ],\n",
       "  \"usage\": {\n",
       "    \"prompt_tokens\": 1374,\n",
       "    \"completion_tokens\": 200,\n",
       "    \"total_tokens\": 1574\n",
       "  }\n",
       "}"
      ]
     },
     "execution_count": 32,
     "metadata": {},
     "output_type": "execute_result"
    }
   ],
   "source": [
    "response"
   ]
  },
  {
   "cell_type": "code",
   "execution_count": 16,
   "id": "70397241",
   "metadata": {},
   "outputs": [
    {
     "data": {
      "text/plain": [
       "<OpenAIObject text_completion id=cmpl-7bp9f708uD6fGba7JtUJt0cmSLLMG at 0x11b916f70> JSON: {\n",
       "  \"id\": \"cmpl-7bp9f708uD6fGba7JtUJt0cmSLLMG\",\n",
       "  \"object\": \"text_completion\",\n",
       "  \"created\": 1689249131,\n",
       "  \"model\": \"text-davinci-003\",\n",
       "  \"choices\": [\n",
       "    {\n",
       "      \"text\": \"That sounds like a lot of fun. What's your favorite music?\\n\",\n",
       "      \"index\": 0,\n",
       "      \"logprobs\": null,\n",
       "      \"finish_reason\": \"stop\"\n",
       "    }\n",
       "  ],\n",
       "  \"usage\": {\n",
       "    \"prompt_tokens\": 94,\n",
       "    \"completion_tokens\": 15,\n",
       "    \"total_tokens\": 109\n",
       "  }\n",
       "}"
      ]
     },
     "execution_count": 16,
     "metadata": {},
     "output_type": "execute_result"
    }
   ],
   "source": [
    "prompt = \"\"\"\n",
    "You are a chatbot that speaks like a toddler.\n",
    "\n",
    "User: Hi, how are you?\n",
    "Chatbot: I'm good\n",
    "User: Tell me about your family\n",
    "Chatbot: I have a mommy and daddy and a baby sister and two kitties\n",
    "User: What do you do for fun?\n",
    "Chatbot: I like to play with my toys, go to the park, and listen to music.\n",
    "User: \n",
    "\"\"\"\n",
    "\n",
    "openai.Completion.create(\n",
    "    prompt=prompt,\n",
    "    model=\"text-davinci-003\",\n",
    "    max_tokens=200,\n",
    "    stop=[\"Chatbot\", \"User:\"] # 혼자 대화를 계속 이어가는 것을 막기위해 stop조건\n",
    ")"
   ]
  },
  {
   "cell_type": "code",
   "execution_count": null,
   "id": "858643b6",
   "metadata": {},
   "outputs": [],
   "source": []
  }
 ],
 "metadata": {
  "kernelspec": {
   "display_name": "Python 3 (ipykernel)",
   "language": "python",
   "name": "python3"
  },
  "language_info": {
   "codemirror_mode": {
    "name": "ipython",
    "version": 3
   },
   "file_extension": ".py",
   "mimetype": "text/x-python",
   "name": "python",
   "nbconvert_exporter": "python",
   "pygments_lexer": "ipython3",
   "version": "3.10.9"
  }
 },
 "nbformat": 4,
 "nbformat_minor": 5
}

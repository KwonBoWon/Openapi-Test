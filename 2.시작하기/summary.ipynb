{
 "cells": [
  {
   "attachments": {},
   "cell_type": "markdown",
   "metadata": {},
   "source": [
    "## Pricing\n",
    "* text-davinci-003: $0.02/1k tokens\n",
    "* text-curie-001: $0.002/1k tokens\n",
    "* text-babbage=001: $0.005/1k tokens\n",
    "* text-ada-001: $0.0004/1k tokens\n",
    "* gpt-3.5-turbo: $0.002/1k tokens\n",
    "* GPT-4: $0.06-$0.12/1k tokens"
   ]
  }
 ],
 "metadata": {
  "language_info": {
   "name": "python"
  },
  "orig_nbformat": 4
 },
 "nbformat": 4,
 "nbformat_minor": 2
}

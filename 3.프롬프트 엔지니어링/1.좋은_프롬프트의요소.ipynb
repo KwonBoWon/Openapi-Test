{
 "cells": [
  {
   "attachments": {},
   "cell_type": "markdown",
   "metadata": {},
   "source": [
    "####Instruction###\n",
    "Trnaslate the text below to French: =>지침을 ###안에 넣기를 권장\n",
    "\n",
    "Text: \"I am a huge idiot\""
   ]
  },
  {
   "attachments": {},
   "cell_type": "markdown",
   "metadata": {},
   "source": [
    "Reduce \"fluffy\" language. Be precise => 모호하거나 불명확한 말을 줄이고 직접적인 지침을 제공해라"
   ]
  }
 ],
 "metadata": {
  "language_info": {
   "name": "python"
  },
  "orig_nbformat": 4
 },
 "nbformat": 4,
 "nbformat_minor": 2
}

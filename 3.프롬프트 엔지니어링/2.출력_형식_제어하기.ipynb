{
 "cells": [
  {
   "attachments": {},
   "cell_type": "markdown",
   "metadata": {},
   "source": []
  },
  {
   "attachments": {},
   "cell_type": "markdown",
   "metadata": {},
   "source": [
    "## Be specific about your desired output\n",
    "\n",
    "Extract the place naes in the following\n",
    "\n",
    "Desired format:\n",
    "Places: <comma_separated_list_of_places>\n",
    "\n",
    "Input:\"Airbnb, Inc.is an American San Francisco-based company.\"\n"
   ]
  },
  {
   "attachments": {},
   "cell_type": "markdown",
   "metadata": {},
   "source": [
    "Generate a list of the top 5 most poplated countries on earth with their population\n",
    "\n",
    "Desired format: JSON object with country name as the key and population as the value\n",
    "\n",
    "{\n",
    "    \"China\":1433783686,\n",
    "    \"India\":1380004385,\n",
    "    \"United States\": 331002651,\n",
    "    \"Indonesia\": 273523615,\n",
    "    \"Brazil\": 210867954\n",
    "}"
   ]
  }
 ],
 "metadata": {
  "language_info": {
   "name": "python"
  },
  "orig_nbformat": 4
 },
 "nbformat": 4,
 "nbformat_minor": 2
}

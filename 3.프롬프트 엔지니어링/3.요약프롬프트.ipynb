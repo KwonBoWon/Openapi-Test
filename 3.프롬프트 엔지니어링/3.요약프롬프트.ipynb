{
 "cells": [
  {
   "attachments": {},
   "cell_type": "markdown",
   "metadata": {},
   "source": [
    "Summarize the following text\n",
    "Desired format: 2-3 sentences of text\n",
    "\n",
    "Input:\"\""
   ]
  }
 ],
 "metadata": {
  "language_info": {
   "name": "python"
  },
  "orig_nbformat": 4
 },
 "nbformat": 4,
 "nbformat_minor": 2
}

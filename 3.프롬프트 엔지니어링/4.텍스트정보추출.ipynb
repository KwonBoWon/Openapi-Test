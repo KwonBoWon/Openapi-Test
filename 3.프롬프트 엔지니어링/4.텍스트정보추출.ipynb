{
 "cells": [
  {
   "attachments": {},
   "cell_type": "markdown",
   "metadata": {},
   "source": [
    "Extract the food items from the restaurant review below:\n",
    "\n",
    "Desired Format: JSON array of food names\n",
    "\n",
    "Input:\"\"\n"
   ]
  }
 ],
 "metadata": {
  "language_info": {
   "name": "python"
  },
  "orig_nbformat": 4
 },
 "nbformat": 4,
 "nbformat_minor": 2
}

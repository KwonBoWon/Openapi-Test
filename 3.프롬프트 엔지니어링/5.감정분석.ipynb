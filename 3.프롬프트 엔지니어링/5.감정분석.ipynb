{
 "cells": [
  {
   "attachments": {},
   "cell_type": "markdown",
   "metadata": {},
   "source": [
    "Classify the following text's sentiment as positive, neutral, or negative \n",
    "Desired Format: a number. -1 for negative, 0 for neutral, and positive\n"
   ]
  }
 ],
 "metadata": {
  "language_info": {
   "name": "python"
  },
  "orig_nbformat": 4
 },
 "nbformat": 4,
 "nbformat_minor": 2
}

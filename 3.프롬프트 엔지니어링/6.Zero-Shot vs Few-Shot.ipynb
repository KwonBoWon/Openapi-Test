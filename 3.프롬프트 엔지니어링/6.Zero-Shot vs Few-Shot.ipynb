{
 "cells": [
  {
   "attachments": {},
   "cell_type": "markdown",
   "metadata": {},
   "source": [
    "### Zero-Shot\n",
    "Extract keywords from the below text.\n",
    "아무런 예시도 제공하지않음, 프롬프트 만으로 대답\n",
    "\n",
    "### Few-Shot\n",
    "Extract keywords from the corresponding texts below\n",
    "모델이 프롬프트를 통해 학습하기를 원하는 예시 제공\n",
    "\n",
    "Text 1: Stripe provieds APIs that web developer can use to integrate payment ~\n",
    "Keywords 1: Stripe, payment, processing, APIs ~\n",
    ".##\n",
    "\n",
    "Text 2: OpenAI has trained ~\n",
    "Keywords 2: OpenAI, langauage models ~\n",
    ".##\n",
    "\n",
    "Text3: {text}\n",
    "Keywords3 :\n"
   ]
  }
 ],
 "metadata": {
  "language_info": {
   "name": "python"
  },
  "orig_nbformat": 4
 },
 "nbformat": 4,
 "nbformat_minor": 2
}

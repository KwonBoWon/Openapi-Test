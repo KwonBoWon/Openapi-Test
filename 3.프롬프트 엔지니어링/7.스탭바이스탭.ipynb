{
 "cells": [
  {
   "attachments": {},
   "cell_type": "markdown",
   "metadata": {},
   "source": [
    "Alice is 7 years older than Beth, who is 5 years older than Erica. What is the diffrence between the ages of Alice and Erica, if Erica is 30 years old?\n",
    "\n",
    "Let's think step by step => 그냥계산시보다 정확도가 올라간다\n"
   ]
  }
 ],
 "metadata": {
  "language_info": {
   "name": "python"
  },
  "orig_nbformat": 4
 },
 "nbformat": 4,
 "nbformat_minor": 2
}

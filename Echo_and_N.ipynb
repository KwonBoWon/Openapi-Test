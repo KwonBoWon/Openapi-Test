{
 "cells": [
  {
   "cell_type": "code",
   "execution_count": 2,
   "id": "277172c2",
   "metadata": {},
   "outputs": [],
   "source": [
    "import openai # openai 라이브러리 사용"
   ]
  },
  {
   "cell_type": "code",
   "execution_count": 3,
   "id": "02124348",
   "metadata": {},
   "outputs": [],
   "source": [
    "from dotenv import dotenv_values # .env파일 읽기위해서"
   ]
  },
  {
   "cell_type": "code",
   "execution_count": 4,
   "id": "e808b1d3",
   "metadata": {},
   "outputs": [],
   "source": [
    "config = dotenv_values(\".env\") # .env파일 읽음"
   ]
  },
  {
   "cell_type": "code",
   "execution_count": 5,
   "id": "74457c8a",
   "metadata": {},
   "outputs": [],
   "source": [
    "openai.api_key =config[\"OPENAI_API_KEY\"] # API key 가져옴"
   ]
  },
  {
   "cell_type": "code",
   "execution_count": null,
   "id": "17012810",
   "metadata": {},
   "outputs": [],
   "source": []
  },
  {
   "cell_type": "code",
   "execution_count": 6,
   "id": "e209ecb4",
   "metadata": {},
   "outputs": [
    {
     "data": {
      "text/plain": [
       "<OpenAIObject text_completion id=cmpl-7a8OTrBq8j20xalxPZtQx0hrtvF6G at 0x111bc3380> JSON: {\n",
       "  \"id\": \"cmpl-7a8OTrBq8j20xalxPZtQx0hrtvF6G\",\n",
       "  \"object\": \"text_completion\",\n",
       "  \"created\": 1688846429,\n",
       "  \"model\": \"text-davinci-003\",\n",
       "  \"choices\": [\n",
       "    {\n",
       "      \"text\": \"\\n\\nQ: What did the ghost bring his date?\\nA: A dead bouquet.\",\n",
       "      \"index\": 0,\n",
       "      \"logprobs\": null,\n",
       "      \"finish_reason\": \"stop\"\n",
       "    },\n",
       "    {\n",
       "      \"text\": \"\\n\\nQ: Why did the ghost go to the bar?\\nA: To get a spirit!\",\n",
       "      \"index\": 1,\n",
       "      \"logprobs\": null,\n",
       "      \"finish_reason\": \"stop\"\n",
       "    },\n",
       "    {\n",
       "      \"text\": \"\\n\\nQ: What kind of cheese is not yours?\\nA: Nacho cheese!\",\n",
       "      \"index\": 2,\n",
       "      \"logprobs\": null,\n",
       "      \"finish_reason\": \"stop\"\n",
       "    }\n",
       "  ],\n",
       "  \"usage\": {\n",
       "    \"prompt_tokens\": 6,\n",
       "    \"completion_tokens\": 60,\n",
       "    \"total_tokens\": 66\n",
       "  }\n",
       "}"
      ]
     },
     "execution_count": 6,
     "metadata": {},
     "output_type": "execute_result"
    }
   ],
   "source": [
    "openai.Completion.create(\n",
    "    model=\"text-davinci-003\",\n",
    "    prompt=\"tell me a joke about death\",\n",
    "    max_tokens=100, # 각 choice의 토큰 최대치\n",
    "    n=3 # n개의 choices(답변) \n",
    ")"
   ]
  },
  {
   "cell_type": "code",
   "execution_count": 7,
   "id": "1fa0ae15",
   "metadata": {},
   "outputs": [
    {
     "data": {
      "text/plain": [
       "<OpenAIObject text_completion id=cmpl-7a8UnwpZ826OLqd4OU1ItWhwlAr5I at 0x1114276a0> JSON: {\n",
       "  \"id\": \"cmpl-7a8UnwpZ826OLqd4OU1ItWhwlAr5I\",\n",
       "  \"object\": \"text_completion\",\n",
       "  \"created\": 1688846821,\n",
       "  \"model\": \"text-davinci-003\",\n",
       "  \"choices\": [\n",
       "    {\n",
       "      \"text\": \"Q: What is the tallest building in the world?\\n\\nA: The world's tallest building is the Burj Khalifa, located in Dubai, United Arab Emirates. It stands at a height of 828 meters (2,717 feet).\",\n",
       "      \"index\": 0,\n",
       "      \"logprobs\": null,\n",
       "      \"finish_reason\": \"stop\"\n",
       "    }\n",
       "  ],\n",
       "  \"usage\": {\n",
       "    \"prompt_tokens\": 11,\n",
       "    \"completion_tokens\": 40,\n",
       "    \"total_tokens\": 51\n",
       "  }\n",
       "}"
      ]
     },
     "execution_count": 7,
     "metadata": {},
     "output_type": "execute_result"
    }
   ],
   "source": [
    "openai.Completion.create(\n",
    "    model=\"text-davinci-003\",\n",
    "    prompt=\"Q: What is the tallest building in the world?\",\n",
    "    max_tokens=100, # 각 choice의 토큰 최대치\n",
    "    echo=True # echo=True, prompt도 답변에 추가가 된다.(챗봇기능을 만들 떄 유용)\n",
    ")"
   ]
  },
  {
   "cell_type": "code",
   "execution_count": null,
   "id": "858643b6",
   "metadata": {},
   "outputs": [],
   "source": []
  }
 ],
 "metadata": {
  "kernelspec": {
   "display_name": "Python 3 (ipykernel)",
   "language": "python",
   "name": "python3"
  },
  "language_info": {
   "codemirror_mode": {
    "name": "ipython",
    "version": 3
   },
   "file_extension": ".py",
   "mimetype": "text/x-python",
   "name": "python",
   "nbconvert_exporter": "python",
   "pygments_lexer": "ipython3",
   "version": "3.10.9"
  }
 },
 "nbformat": 4,
 "nbformat_minor": 5
}

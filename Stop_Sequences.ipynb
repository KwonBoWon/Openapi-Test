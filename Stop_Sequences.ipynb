{
 "cells": [
  {
   "cell_type": "code",
   "execution_count": 23,
   "id": "277172c2",
   "metadata": {},
   "outputs": [],
   "source": [
    "import openai"
   ]
  },
  {
   "cell_type": "code",
   "execution_count": 24,
   "id": "02124348",
   "metadata": {},
   "outputs": [],
   "source": [
    "from dotenv import dotenv_values"
   ]
  },
  {
   "cell_type": "code",
   "execution_count": 25,
   "id": "e808b1d3",
   "metadata": {},
   "outputs": [],
   "source": [
    "config = dotenv_values(\".env\")"
   ]
  },
  {
   "cell_type": "code",
   "execution_count": 26,
   "id": "74457c8a",
   "metadata": {},
   "outputs": [],
   "source": [
    "openai.api_key =config[\"OPENAI_API_KEY\"]"
   ]
  },
  {
   "cell_type": "code",
   "execution_count": 27,
   "id": "e209ecb4",
   "metadata": {},
   "outputs": [],
   "source": [
    "response = openai.Completion.create(\n",
    "    prompt=\"Generate a list of the best movies of all time\",\n",
    "    model=\"text-davinci-003\",\n",
    "    max_tokens=200\n",
    ")"
   ]
  },
  {
   "cell_type": "code",
   "execution_count": 28,
   "id": "878b7911",
   "metadata": {
    "scrolled": true
   },
   "outputs": [
    {
     "name": "stdout",
     "output_type": "stream",
     "text": [
      "\n",
      "\n",
      "1. The Godfather (1972)\n",
      "2. The Shawshank Redemption (1994)\n",
      "3. Pulp Fiction (1994)\n",
      "4. Casablanca (1942)\n",
      "5. The Godfather Part II (1974)\n",
      "6. One Flew Over the Cuckoo's Nest (1975)\n",
      "7. The Lord of the Rings Trilogy (2001-2003)\n",
      "8. Schindler's List (1993)\n",
      "9. Seven Samurai (1954)\n",
      "10. 12 Angry Men (1957)\n",
      "11. West Side Story (1961)\n",
      "12. Star Wars (1977)\n",
      "13. The Good, the Bad, and the Ugly (1966)\n",
      "14. Citizen Kane (1941)\n",
      "15. The Lord of the Rings: The Return of the King (2003)\n",
      "16. Apocalypse Now (1979)\n",
      "17. Jaws (1975)\n",
      "18. Singin’ in the Rain (1952\n"
     ]
    }
   ],
   "source": [
    "print(response[\"choices\"][0][\"text\"])"
   ]
  },
  {
   "cell_type": "code",
   "execution_count": 29,
   "id": "0107cbd8",
   "metadata": {},
   "outputs": [
    {
     "data": {
      "text/plain": [
       "<OpenAIObject text_completion id=cmpl-7a7oKn1dQ9U1pFBP5TWnNFfaZ0zt2 at 0x1075b6250> JSON: {\n",
       "  \"id\": \"cmpl-7a7oKn1dQ9U1pFBP5TWnNFfaZ0zt2\",\n",
       "  \"object\": \"text_completion\",\n",
       "  \"created\": 1688844188,\n",
       "  \"model\": \"text-davinci-003\",\n",
       "  \"choices\": [\n",
       "    {\n",
       "      \"text\": \"\\n\\n1. The Godfather (1972)\\n2. The Shawshank Redemption (1994)\\n3. Pulp Fiction (1994)\\n4. Casablanca (1942)\\n5. The Godfather Part II (1974)\\n6. One Flew Over the Cuckoo's Nest (1975)\\n7. The Lord of the Rings Trilogy (2001-2003)\\n8. Schindler's List (1993)\\n9. Seven Samurai (1954)\\n10. 12 Angry Men (1957)\\n11. West Side Story (1961)\\n12. Star Wars (1977)\\n13. The Good, the Bad, and the Ugly (1966)\\n14. Citizen Kane (1941)\\n15. The Lord of the Rings: The Return of the King (2003)\\n16. Apocalypse Now (1979)\\n17. Jaws (1975)\\n18. Singin\\u2019 in the Rain (1952\",\n",
       "      \"index\": 0,\n",
       "      \"logprobs\": null,\n",
       "      \"finish_reason\": \"length\"\n",
       "    }\n",
       "  ],\n",
       "  \"usage\": {\n",
       "    \"prompt_tokens\": 11,\n",
       "    \"completion_tokens\": 200,\n",
       "    \"total_tokens\": 211\n",
       "  }\n",
       "}"
      ]
     },
     "execution_count": 29,
     "metadata": {},
     "output_type": "execute_result"
    }
   ],
   "source": [
    "response"
   ]
  },
  {
   "cell_type": "code",
   "execution_count": null,
   "id": "f049c35a",
   "metadata": {},
   "outputs": [],
   "source": []
  }
 ],
 "metadata": {
  "kernelspec": {
   "display_name": "Python 3 (ipykernel)",
   "language": "python",
   "name": "python3"
  },
  "language_info": {
   "codemirror_mode": {
    "name": "ipython",
    "version": 3
   },
   "file_extension": ".py",
   "mimetype": "text/x-python",
   "name": "python",
   "nbconvert_exporter": "python",
   "pygments_lexer": "ipython3",
   "version": "3.10.9"
  }
 },
 "nbformat": 4,
 "nbformat_minor": 5
}

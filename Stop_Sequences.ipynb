{
 "cells": [
  {
   "cell_type": "code",
   "execution_count": 30,
   "id": "277172c2",
   "metadata": {},
   "outputs": [],
   "source": [
    "import openai"
   ]
  },
  {
   "cell_type": "code",
   "execution_count": 31,
   "id": "02124348",
   "metadata": {},
   "outputs": [],
   "source": [
    "from dotenv import dotenv_values"
   ]
  },
  {
   "cell_type": "code",
   "execution_count": 32,
   "id": "e808b1d3",
   "metadata": {},
   "outputs": [],
   "source": [
    "config = dotenv_values(\".env\")"
   ]
  },
  {
   "cell_type": "code",
   "execution_count": 33,
   "id": "74457c8a",
   "metadata": {},
   "outputs": [],
   "source": [
    "openai.api_key =config[\"OPENAI_API_KEY\"]"
   ]
  },
  {
   "cell_type": "code",
   "execution_count": 34,
   "id": "e209ecb4",
   "metadata": {},
   "outputs": [],
   "source": [
    "response = openai.Completion.create(\n",
    "    prompt=\"Generate a list of the best movies of all time\",\n",
    "    model=\"text-davinci-003\",\n",
    "    max_tokens=200,\n",
    "    stop=\"5.\" # stop으로 \"5.\"을 만나면 \"5.\"부터 중단(4개만 생성)\n",
    ")"
   ]
  },
  {
   "cell_type": "code",
   "execution_count": 35,
   "id": "ee2df1e3",
   "metadata": {
    "scrolled": true
   },
   "outputs": [
    {
     "name": "stdout",
     "output_type": "stream",
     "text": [
      "\n",
      "\n",
      "1. The Godfather\n",
      "2. Shawshank Redemption\n",
      "3. The Dark Knight\n",
      "4. Schindler's List\n",
      "\n"
     ]
    }
   ],
   "source": [
    "print(response[\"choices\"][0][\"text\"]) # choice는 하나밖에 없으므로 0, text에 데이터가 있음"
   ]
  },
  {
   "cell_type": "code",
   "execution_count": 36,
   "id": "7979364b",
   "metadata": {},
   "outputs": [
    {
     "data": {
      "text/plain": [
       "<OpenAIObject text_completion id=cmpl-7a83v8aJC4D9ZS5qcNf0iU560kyFy at 0x1053435b0> JSON: {\n",
       "  \"id\": \"cmpl-7a83v8aJC4D9ZS5qcNf0iU560kyFy\",\n",
       "  \"object\": \"text_completion\",\n",
       "  \"created\": 1688845155,\n",
       "  \"model\": \"text-davinci-003\",\n",
       "  \"choices\": [\n",
       "    {\n",
       "      \"text\": \"\\n\\n1. The Godfather\\n2. Shawshank Redemption\\n3. The Dark Knight\\n4. Schindler's List\\n\",\n",
       "      \"index\": 0,\n",
       "      \"logprobs\": null,\n",
       "      \"finish_reason\": \"stop\"\n",
       "    }\n",
       "  ],\n",
       "  \"usage\": {\n",
       "    \"prompt_tokens\": 11,\n",
       "    \"completion_tokens\": 29,\n",
       "    \"total_tokens\": 40\n",
       "  }\n",
       "}"
      ]
     },
     "execution_count": 36,
     "metadata": {},
     "output_type": "execute_result"
    }
   ],
   "source": [
    "response"
   ]
  },
  {
   "cell_type": "code",
   "execution_count": 45,
   "id": "70397241",
   "metadata": {},
   "outputs": [
    {
     "ename": "SyntaxError",
     "evalue": "positional argument follows keyword argument (2126562869.py, line 18)",
     "output_type": "error",
     "traceback": [
      "\u001b[0;36m  Cell \u001b[0;32mIn[45], line 18\u001b[0;36m\u001b[0m\n\u001b[0;31m    )\u001b[0m\n\u001b[0m    ^\u001b[0m\n\u001b[0;31mSyntaxError\u001b[0m\u001b[0;31m:\u001b[0m positional argument follows keyword argument\n"
     ]
    }
   ],
   "source": [
    "prompt = \"\"\"\n",
    "You are a chatbot that speaks like a toddler.\n",
    "\n",
    "User: Hi, how are you?\n",
    "Chatbot: I'm good\n",
    "User: Tell me about your family\n",
    "Chatbot: I have a mommy and daddy and a baby sister and two kitties\n",
    "User: What do you do for fun?\n",
    "Chatbot: I like to play with my toys, go to the park, and listen to music.\n",
    "User: \n",
    "\"\"\"\n",
    "\n",
    "openai.Completion.create(\n",
    "    prompt=prompt,\n",
    "    model=\"text-davinci-003\",\n",
    "    max_tokens=200,\n",
    "    stop=[\"Chatbot\", \"User:\"] # 혼자 대화를 계속 이어가는 것을 막기위해 stop조건\n",
    ")"
   ]
  },
  {
   "cell_type": "code",
   "execution_count": null,
   "id": "858643b6",
   "metadata": {},
   "outputs": [],
   "source": []
  }
 ],
 "metadata": {
  "kernelspec": {
   "display_name": "Python 3 (ipykernel)",
   "language": "python",
   "name": "python3"
  },
  "language_info": {
   "codemirror_mode": {
    "name": "ipython",
    "version": 3
   },
   "file_extension": ".py",
   "mimetype": "text/x-python",
   "name": "python",
   "nbconvert_exporter": "python",
   "pygments_lexer": "ipython3",
   "version": "3.10.9"
  }
 },
 "nbformat": 4,
 "nbformat_minor": 5
}
